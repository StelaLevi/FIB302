{
  "nbformat": 4,
  "nbformat_minor": 0,
  "metadata": {
    "colab": {
      "provenance": [],
      "authorship_tag": "ABX9TyPmPVWYHzGsn5qLONh8MLc9",
      "include_colab_link": true
    },
    "kernelspec": {
      "name": "python3",
      "display_name": "Python 3"
    },
    "language_info": {
      "name": "python"
    }
  },
  "cells": [
    {
      "cell_type": "markdown",
      "metadata": {
        "id": "view-in-github",
        "colab_type": "text"
      },
      "source": [
        "<a href=\"https://colab.research.google.com/github/StelaLevi/FIB302/blob/main/lista_3_phyton.ipynb\" target=\"_parent\"><img src=\"https://colab.research.google.com/assets/colab-badge.svg\" alt=\"Open In Colab\"/></a>"
      ]
    },
    {
      "cell_type": "code",
      "execution_count": 3,
      "metadata": {
        "colab": {
          "base_uri": "https://localhost:8080/"
        },
        "id": "UyBQzh2yNdIC",
        "outputId": "ca2b4275-4eb4-4c4b-ec75-3f1ee9cc7e0c"
      },
      "outputs": [
        {
          "output_type": "stream",
          "name": "stdout",
          "text": [
            "Insira um número: 8\n",
            "O número é par.\n"
          ]
        }
      ],
      "source": [
        "numero = int(input(\"Insira um número: \"))\n",
        "if numero % 2 == 0:\n",
        "  print(\"O número é par.\")\n",
        "else:\n",
        "  print(\"O número é ímpar.\")"
      ]
    },
    {
      "cell_type": "code",
      "source": [
        "nota = float(input(\"Insira a nota (0-100): \"))\n",
        "if nota >=60:\n",
        "  print(\"Aprovado\")\n",
        "else:\n",
        "  print(\"Reprovado\")"
      ],
      "metadata": {
        "colab": {
          "base_uri": "https://localhost:8080/"
        },
        "id": "GhZGRvedOhkV",
        "outputId": "4788c8ac-341c-4d9b-e92b-cbe7a4052bdd"
      },
      "execution_count": 6,
      "outputs": [
        {
          "output_type": "stream",
          "name": "stdout",
          "text": [
            "Insira a nota (0-100): 59\n",
            "Reprovado\n"
          ]
        }
      ]
    },
    {
      "cell_type": "code",
      "source": [
        "import random\n",
        "numero_aleatorio = random.randint(1, 100)\n",
        "while True:\n",
        "  palpite = int(input(\"Adivinhe o número (entre 1 a 100): \"))\n",
        "  if palpite == numero_aleatorio:\n",
        "    print(\"Parabéns, você acertou!!\")\n",
        "    break\n",
        "  elif palpite < numero_aleatorio:\n",
        "    print(\"Errou,muito baixo, tente novamente\")\n",
        "  else:\n",
        "    print(\"Errou, muito alto, tente novamente\")"
      ],
      "metadata": {
        "colab": {
          "base_uri": "https://localhost:8080/"
        },
        "id": "xR2PXcc2Pc1T",
        "outputId": "f3737b30-5a6f-488d-9cf8-5ab4f0fd12b3"
      },
      "execution_count": 14,
      "outputs": [
        {
          "output_type": "stream",
          "name": "stdout",
          "text": [
            "Adivinhe o número (entre 1 a 100): 9\n",
            "Errou,muito baixo, tente novamente\n",
            "Adivinhe o número (entre 1 a 100): 90\n",
            "Errou, muito alto, tente novamente\n",
            "Adivinhe o número (entre 1 a 100): 50\n",
            "Errou, muito alto, tente novamente\n",
            "Adivinhe o número (entre 1 a 100): 25\n",
            "Errou,muito baixo, tente novamente\n",
            "Adivinhe o número (entre 1 a 100): 40\n",
            "Errou, muito alto, tente novamente\n",
            "Adivinhe o número (entre 1 a 100): 30\n",
            "Parabéns, você acertou!!\n"
          ]
        }
      ]
    },
    {
      "cell_type": "code",
      "source": [],
      "metadata": {
        "id": "ljuPmTVWTLiX"
      },
      "execution_count": null,
      "outputs": []
    },
    {
      "cell_type": "code",
      "source": [
        "numero = int(input(\"Insira um número do conjunto dos inteiros: \"))\n",
        "if numero < 0:\n",
        "  print(\"O numero não faz pate dos conjunto dos inteiros:\")\n",
        "else:\n",
        "  fatorial = 1\n",
        "  contador = 1\n",
        "  while contador <= numero:\n",
        "    fatorial *= contador\n",
        "    contador += 1\n",
        "  print(\"O fatorial de\", numero,\"é: \",fatorial)"
      ],
      "metadata": {
        "colab": {
          "base_uri": "https://localhost:8080/"
        },
        "id": "4-XvsC14SLt0",
        "outputId": "060a93f6-edb6-4f4e-8ee5-6f6244fc161d"
      },
      "execution_count": 15,
      "outputs": [
        {
          "output_type": "stream",
          "name": "stdout",
          "text": [
            "Insira um número do conjunto dos inteiros: 9\n",
            "O fatorial de 9 é:  362880\n"
          ]
        }
      ]
    },
    {
      "cell_type": "code",
      "source": [
        "string = input(\"Insira uma string: \")\n",
        "string = string.replace(\" \",\"\").lower()\n",
        "if string == string[::-1]:\n",
        "  print(\"A string é um palindromo.\")\n",
        "else:\n",
        "  print(\"A string não é um palindromo\")\n",
        ""
      ],
      "metadata": {
        "colab": {
          "base_uri": "https://localhost:8080/"
        },
        "id": "BD9XdwoiUfBL",
        "outputId": "9e1efab0-5f2f-4542-c06f-35a2b45c9dba"
      },
      "execution_count": 18,
      "outputs": [
        {
          "output_type": "stream",
          "name": "stdout",
          "text": [
            "Insira uma string: amor\n",
            "A string não é um palindromo\n"
          ]
        }
      ]
    },
    {
      "cell_type": "code",
      "source": [
        "numero = int(input(\"Insira um número do conjunto dos inteiros:\"))\n",
        "if numero > 1:\n",
        "  for i in range(2,numero):\n",
        "    if (numero % i) == 0:\n",
        "      print(numero, \"não é um número primo\")\n",
        "      break\n",
        "    else:\n",
        "      print(numero, \"é um número primo.\")\n",
        "else:\n",
        "  print(numero, \"não é um número primo\")"
      ],
      "metadata": {
        "colab": {
          "base_uri": "https://localhost:8080/"
        },
        "id": "1HLFjQP0Wj7x",
        "outputId": "eca02208-49bf-47b3-807e-44251f249794"
      },
      "execution_count": 19,
      "outputs": [
        {
          "output_type": "stream",
          "name": "stdout",
          "text": [
            "Insira um número do conjunto dos inteiros:7\n",
            "7 é um número primo.\n",
            "7 é um número primo.\n",
            "7 é um número primo.\n",
            "7 é um número primo.\n",
            "7 é um número primo.\n"
          ]
        }
      ]
    },
    {
      "cell_type": "code",
      "source": [],
      "metadata": {
        "id": "khklVFunZp0n"
      },
      "execution_count": null,
      "outputs": []
    }
  ]
}